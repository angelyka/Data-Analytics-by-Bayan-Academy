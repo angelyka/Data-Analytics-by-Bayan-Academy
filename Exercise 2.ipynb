{
 "cells": [
  {
   "cell_type": "markdown",
   "id": "2973fbd4",
   "metadata": {},
   "source": [
    "# Exercise 2"
   ]
  },
  {
   "cell_type": "code",
   "execution_count": 1,
   "id": "6230e38a",
   "metadata": {},
   "outputs": [],
   "source": [
    "import numpy as np\n",
    "import pandas as pd"
   ]
  },
  {
   "cell_type": "markdown",
   "id": "5e574c30",
   "metadata": {},
   "source": [
    "<b> Question #1"
   ]
  },
  {
   "cell_type": "code",
   "execution_count": 57,
   "id": "fb0ab43a",
   "metadata": {},
   "outputs": [],
   "source": [
    "# list of columns\n",
    "\n",
    "col_a = ['a','b','c','d']\n",
    "col_b = np.arange(2,12,3)\n",
    "col_c = np.arange(1,5)\n",
    "col_d = np.arange(3,7)\n",
    "col_e = (np.arange(3,7)*1.0)\n",
    "col_f = ['h','i','j','k']\n",
    "col_g = [\"2020-01-01 00:00:00-05:00\",\n",
    "         \"2020-01-02 00:00:00-05:00\", \n",
    "         \"2020-01-03 00:00:00- 05:00\",\n",
    "         \"2020-01-04 00:00:00-05:00\"] \n",
    "col_h = pd.date_range('2020-01-01', periods=4, freq='N')\n",
    "col_i = ['True','False','False','True']"
   ]
  },
  {
   "cell_type": "code",
   "execution_count": 58,
   "id": "b06cedfb",
   "metadata": {},
   "outputs": [
    {
     "data": {
      "text/html": [
       "<div>\n",
       "<style scoped>\n",
       "    .dataframe tbody tr th:only-of-type {\n",
       "        vertical-align: middle;\n",
       "    }\n",
       "\n",
       "    .dataframe tbody tr th {\n",
       "        vertical-align: top;\n",
       "    }\n",
       "\n",
       "    .dataframe thead th {\n",
       "        text-align: right;\n",
       "    }\n",
       "</style>\n",
       "<table border=\"1\" class=\"dataframe\">\n",
       "  <thead>\n",
       "    <tr style=\"text-align: right;\">\n",
       "      <th></th>\n",
       "      <th>column-a</th>\n",
       "      <th>column-b</th>\n",
       "      <th>column-c</th>\n",
       "      <th>column-d</th>\n",
       "      <th>column-e</th>\n",
       "      <th>column-f</th>\n",
       "      <th>column-g</th>\n",
       "      <th>column-h</th>\n",
       "      <th>column-i</th>\n",
       "    </tr>\n",
       "  </thead>\n",
       "  <tbody>\n",
       "    <tr>\n",
       "      <th>0</th>\n",
       "      <td>a</td>\n",
       "      <td>2</td>\n",
       "      <td>1</td>\n",
       "      <td>3</td>\n",
       "      <td>3.0</td>\n",
       "      <td>h</td>\n",
       "      <td>2020-01-01 00:00:00-05:00</td>\n",
       "      <td>2020-01-01 00:00:00.000000000</td>\n",
       "      <td>True</td>\n",
       "    </tr>\n",
       "    <tr>\n",
       "      <th>1</th>\n",
       "      <td>b</td>\n",
       "      <td>5</td>\n",
       "      <td>2</td>\n",
       "      <td>4</td>\n",
       "      <td>4.0</td>\n",
       "      <td>i</td>\n",
       "      <td>2020-01-02 00:00:00-05:00</td>\n",
       "      <td>2020-01-01 00:00:00.000000001</td>\n",
       "      <td>False</td>\n",
       "    </tr>\n",
       "    <tr>\n",
       "      <th>2</th>\n",
       "      <td>c</td>\n",
       "      <td>8</td>\n",
       "      <td>3</td>\n",
       "      <td>5</td>\n",
       "      <td>5.0</td>\n",
       "      <td>j</td>\n",
       "      <td>2020-01-03 00:00:00- 05:00</td>\n",
       "      <td>2020-01-01 00:00:00.000000002</td>\n",
       "      <td>False</td>\n",
       "    </tr>\n",
       "    <tr>\n",
       "      <th>3</th>\n",
       "      <td>d</td>\n",
       "      <td>11</td>\n",
       "      <td>4</td>\n",
       "      <td>6</td>\n",
       "      <td>6.0</td>\n",
       "      <td>k</td>\n",
       "      <td>2020-01-04 00:00:00-05:00</td>\n",
       "      <td>2020-01-01 00:00:00.000000003</td>\n",
       "      <td>True</td>\n",
       "    </tr>\n",
       "  </tbody>\n",
       "</table>\n",
       "</div>"
      ],
      "text/plain": [
       "  column-a  column-b  column-c  column-d  column-e column-f  \\\n",
       "0        a         2         1         3       3.0        h   \n",
       "1        b         5         2         4       4.0        i   \n",
       "2        c         8         3         5       5.0        j   \n",
       "3        d        11         4         6       6.0        k   \n",
       "\n",
       "                     column-g                      column-h column-i  \n",
       "0   2020-01-01 00:00:00-05:00 2020-01-01 00:00:00.000000000     True  \n",
       "1   2020-01-02 00:00:00-05:00 2020-01-01 00:00:00.000000001    False  \n",
       "2  2020-01-03 00:00:00- 05:00 2020-01-01 00:00:00.000000002    False  \n",
       "3   2020-01-04 00:00:00-05:00 2020-01-01 00:00:00.000000003     True  "
      ]
     },
     "execution_count": 58,
     "metadata": {},
     "output_type": "execute_result"
    }
   ],
   "source": [
    "# dictionary of lists \n",
    "\n",
    "dict = {'column-a':col_a,\n",
    "        'column-b':col_b,\n",
    "        'column-c':col_c,\n",
    "        'column-d':col_d,\n",
    "        'column-e':col_e,\n",
    "        'column-f':col_f,\n",
    "        'column-g':col_g,\n",
    "        'column-h':col_h,\n",
    "        'column-i':col_i,}\n",
    "\n",
    "df = pd.DataFrame(dict)\n",
    "    \n",
    "df"
   ]
  },
  {
   "cell_type": "markdown",
   "id": "68ce500b",
   "metadata": {},
   "source": [
    "<b> Question #2"
   ]
  },
  {
   "cell_type": "markdown",
   "id": "575420c6",
   "metadata": {},
   "source": [
    "<b>Task 1:</b>\n",
    "Mr.Jo Jo likes to do his experiment on small amount of data thus decided to play with only 10 rows.\n",
    "Read only the rows 3-12 from tweets sheet and name it as \"df\" and display the type of df."
   ]
  },
  {
   "cell_type": "code",
   "execution_count": 27,
   "id": "5a5a9e07",
   "metadata": {
    "scrolled": true
   },
   "outputs": [
    {
     "data": {
      "text/html": [
       "<div>\n",
       "<style scoped>\n",
       "    .dataframe tbody tr th:only-of-type {\n",
       "        vertical-align: middle;\n",
       "    }\n",
       "\n",
       "    .dataframe tbody tr th {\n",
       "        vertical-align: top;\n",
       "    }\n",
       "\n",
       "    .dataframe thead th {\n",
       "        text-align: right;\n",
       "    }\n",
       "</style>\n",
       "<table border=\"1\" class=\"dataframe\">\n",
       "  <thead>\n",
       "    <tr style=\"text-align: right;\">\n",
       "      <th></th>\n",
       "      <th>tweet_id</th>\n",
       "      <th>created_at</th>\n",
       "      <th>tweet</th>\n",
       "      <th>retweets</th>\n",
       "      <th>username</th>\n",
       "    </tr>\n",
       "  </thead>\n",
       "  <tbody>\n",
       "    <tr>\n",
       "      <th>0</th>\n",
       "      <td>832516558903730176</td>\n",
       "      <td>2017-02-17 09:06:29</td>\n",
       "      <td>@comark yes check the flux capacitor in our lo...</td>\n",
       "      <td>0</td>\n",
       "      <td>88mph_Africa</td>\n",
       "    </tr>\n",
       "    <tr>\n",
       "      <th>1</th>\n",
       "      <td>832293187670704128</td>\n",
       "      <td>2017-02-16 18:18:53</td>\n",
       "      <td>RT @iafrikan: .@88mph_Africa stopped running i...</td>\n",
       "      <td>1</td>\n",
       "      <td>88mph_Africa</td>\n",
       "    </tr>\n",
       "    <tr>\n",
       "      <th>2</th>\n",
       "      <td>831880802489217024</td>\n",
       "      <td>2017-02-15 15:00:13</td>\n",
       "      <td>88mph invest in Ahoy - a business travel app f...</td>\n",
       "      <td>1</td>\n",
       "      <td>88mph_Africa</td>\n",
       "    </tr>\n",
       "    <tr>\n",
       "      <th>3</th>\n",
       "      <td>946063916068634631</td>\n",
       "      <td>2017-12-27 17:03:09</td>\n",
       "      <td>Ce samedi 30 décembre 2017 à @ActivSpaces, se ...</td>\n",
       "      <td>4</td>\n",
       "      <td>ActiveSpaces</td>\n",
       "    </tr>\n",
       "    <tr>\n",
       "      <th>4</th>\n",
       "      <td>945973955847999488</td>\n",
       "      <td>2017-12-27 11:05:41</td>\n",
       "      <td>RT @OIFfrancophonie: Retour en vidéo sur la vi...</td>\n",
       "      <td>27</td>\n",
       "      <td>ActiveSpaces</td>\n",
       "    </tr>\n",
       "    <tr>\n",
       "      <th>5</th>\n",
       "      <td>945972004548726785</td>\n",
       "      <td>2017-12-27 10:57:55</td>\n",
       "      <td>RT @OIFfrancophonie: L’OIF a organisé un ateli...</td>\n",
       "      <td>13</td>\n",
       "      <td>ActiveSpaces</td>\n",
       "    </tr>\n",
       "    <tr>\n",
       "      <th>6</th>\n",
       "      <td>945606558930690048</td>\n",
       "      <td>2017-12-26 10:45:46</td>\n",
       "      <td>Plus que deux jours et les inscriptions seront...</td>\n",
       "      <td>5</td>\n",
       "      <td>ActiveSpaces</td>\n",
       "    </tr>\n",
       "    <tr>\n",
       "      <th>7</th>\n",
       "      <td>945595453256687616</td>\n",
       "      <td>2017-12-26 10:01:39</td>\n",
       "      <td>RT @nlend_nyounai: Transform your idea into a ...</td>\n",
       "      <td>1</td>\n",
       "      <td>ActiveSpaces</td>\n",
       "    </tr>\n",
       "    <tr>\n",
       "      <th>8</th>\n",
       "      <td>945595401729724416</td>\n",
       "      <td>2017-12-26 10:01:26</td>\n",
       "      <td>RT @ElongWilliam: Si tu as une idée et tu es u...</td>\n",
       "      <td>6</td>\n",
       "      <td>ActiveSpaces</td>\n",
       "    </tr>\n",
       "    <tr>\n",
       "      <th>9</th>\n",
       "      <td>944304498461347840</td>\n",
       "      <td>2017-12-22 20:31:51</td>\n",
       "      <td>RT @chantaledie: AWESOME https://t.co/pTu3k5LA81</td>\n",
       "      <td>2</td>\n",
       "      <td>ActiveSpaces</td>\n",
       "    </tr>\n",
       "  </tbody>\n",
       "</table>\n",
       "</div>"
      ],
      "text/plain": [
       "             tweet_id           created_at  \\\n",
       "0  832516558903730176  2017-02-17 09:06:29   \n",
       "1  832293187670704128  2017-02-16 18:18:53   \n",
       "2  831880802489217024  2017-02-15 15:00:13   \n",
       "3  946063916068634631  2017-12-27 17:03:09   \n",
       "4  945973955847999488  2017-12-27 11:05:41   \n",
       "5  945972004548726785  2017-12-27 10:57:55   \n",
       "6  945606558930690048  2017-12-26 10:45:46   \n",
       "7  945595453256687616  2017-12-26 10:01:39   \n",
       "8  945595401729724416  2017-12-26 10:01:26   \n",
       "9  944304498461347840  2017-12-22 20:31:51   \n",
       "\n",
       "                                              tweet   retweets      username  \n",
       "0  @comark yes check the flux capacitor in our lo...         0  88mph_Africa  \n",
       "1  RT @iafrikan: .@88mph_Africa stopped running i...         1  88mph_Africa  \n",
       "2  88mph invest in Ahoy - a business travel app f...         1  88mph_Africa  \n",
       "3  Ce samedi 30 décembre 2017 à @ActivSpaces, se ...         4  ActiveSpaces  \n",
       "4  RT @OIFfrancophonie: Retour en vidéo sur la vi...        27  ActiveSpaces  \n",
       "5  RT @OIFfrancophonie: L’OIF a organisé un ateli...        13  ActiveSpaces  \n",
       "6  Plus que deux jours et les inscriptions seront...         5  ActiveSpaces  \n",
       "7  RT @nlend_nyounai: Transform your idea into a ...         1  ActiveSpaces  \n",
       "8  RT @ElongWilliam: Si tu as une idée et tu es u...         6  ActiveSpaces  \n",
       "9   RT @chantaledie: AWESOME https://t.co/pTu3k5LA81         2  ActiveSpaces  "
      ]
     },
     "execution_count": 27,
     "metadata": {},
     "output_type": "execute_result"
    }
   ],
   "source": [
    "#Import excel file\n",
    "#Display rows 3-12 only from tweets sheet\n",
    "\n",
    "df=pd.read_excel('assignment-data.xlsx',sheet_name='tweets', skiprows=[1,2])\n",
    "df.head(10)"
   ]
  },
  {
   "cell_type": "code",
   "execution_count": 28,
   "id": "091d93f4",
   "metadata": {},
   "outputs": [
    {
     "data": {
      "text/plain": [
       "pandas.core.frame.DataFrame"
      ]
     },
     "execution_count": 28,
     "metadata": {},
     "output_type": "execute_result"
    }
   ],
   "source": [
    "#Display the type of the dataset\n",
    "\n",
    "type(df)"
   ]
  },
  {
   "cell_type": "code",
   "execution_count": 56,
   "id": "98e71bee",
   "metadata": {},
   "outputs": [
    {
     "data": {
      "text/plain": [
       "tweet_id                object\n",
       "created_at      datetime64[ns]\n",
       "tweet                   object\n",
       "retweets                 int64\n",
       "username                object\n",
       "new-tweet-id            object\n",
       "dtype: object"
      ]
     },
     "execution_count": 56,
     "metadata": {},
     "output_type": "execute_result"
    }
   ],
   "source": [
    "#convert \"tweet_id\" from int to str\n",
    "df = df.astype({\"tweet_id\" : str})\n",
    "\n",
    "#convert \"created_at\" from object to datetime\n",
    "df['created_at'] = df['created_at'].astype('datetime64[ns]')\n",
    "df.dtypes\n"
   ]
  },
  {
   "cell_type": "markdown",
   "id": "af0352e6",
   "metadata": {},
   "source": [
    "<b>Task 2:</b>\n",
    "Mr.Jo Jo found that “tweetid, created-at and username” columns are sensitive thus decided to mask the values from those columns. He created new columns “new- tweet-id”,”created-at4” to store the masked “tweet-ids” and masked “created-at” values. He decided to use “username” column to store masked usernames."
   ]
  },
  {
   "cell_type": "code",
   "execution_count": 36,
   "id": "6422a9cd",
   "metadata": {},
   "outputs": [],
   "source": [
    "#Mask \"tweet-ids\"\n",
    "\n",
    "#Use the last 5 digits as the first 5 digits\n",
    "a = df['tweet_id'].str[-5:]\n",
    "\n",
    "#Reverse the arrangement of 6-13 digits\n",
    "b = df['tweet_id'].str[5:13].str[::-1]\n",
    "\n",
    "#Use the first 5 digits as the last 5 digits\n",
    "c = df['tweet_id'].str[0:5]\n",
    "\n",
    "#Create \"new-tweet-id\" column\n",
    "df['new-tweet-id'] = df['tweet_id'].mask(df['tweet_id'].notnull(), a+b+c)\n",
    "\n"
   ]
  },
  {
   "cell_type": "code",
   "execution_count": 57,
   "id": "80448093",
   "metadata": {},
   "outputs": [],
   "source": [
    "#Mask \"created-at\"\n",
    "\n",
    "#Deduct 1 year to the dates\n",
    "date = df['created_at'] - pd.DateOffset(years=1)\n",
    "\n",
    "#Create \"created_at4\" column\n",
    "df['created_at4'] = df['created_at'].mask(df['created_at'].notnull(), date.dt.strftime(\"%A/%B/%y\"))\n"
   ]
  },
  {
   "cell_type": "code",
   "execution_count": 58,
   "id": "2bf5bf79",
   "metadata": {},
   "outputs": [],
   "source": [
    "#Mask \"username\" column\n",
    "\n",
    "df['username'] = df['username'].mask(df['username'].notnull(),'yyy')"
   ]
  },
  {
   "cell_type": "code",
   "execution_count": 73,
   "id": "e119ba41",
   "metadata": {},
   "outputs": [
    {
     "data": {
      "text/html": [
       "<div>\n",
       "<style scoped>\n",
       "    .dataframe tbody tr th:only-of-type {\n",
       "        vertical-align: middle;\n",
       "    }\n",
       "\n",
       "    .dataframe tbody tr th {\n",
       "        vertical-align: top;\n",
       "    }\n",
       "\n",
       "    .dataframe thead th {\n",
       "        text-align: right;\n",
       "    }\n",
       "</style>\n",
       "<table border=\"1\" class=\"dataframe\">\n",
       "  <thead>\n",
       "    <tr style=\"text-align: right;\">\n",
       "      <th></th>\n",
       "      <th>new-tweet-id</th>\n",
       "      <th>created_at4</th>\n",
       "      <th>username</th>\n",
       "    </tr>\n",
       "  </thead>\n",
       "  <tbody>\n",
       "    <tr>\n",
       "      <th>0</th>\n",
       "      <td>301767309855683251</td>\n",
       "      <td>Wednesday/February/16</td>\n",
       "      <td>yyy</td>\n",
       "    </tr>\n",
       "    <tr>\n",
       "      <th>1</th>\n",
       "      <td>041287076781383229</td>\n",
       "      <td>Tuesday/February/16</td>\n",
       "      <td>yyy</td>\n",
       "    </tr>\n",
       "    <tr>\n",
       "      <th>2</th>\n",
       "      <td>170242984208083188</td>\n",
       "      <td>Monday/February/16</td>\n",
       "      <td>yyy</td>\n",
       "    </tr>\n",
       "    <tr>\n",
       "      <th>3</th>\n",
       "      <td>346316860619394606</td>\n",
       "      <td>Tuesday/December/16</td>\n",
       "      <td>yyy</td>\n",
       "    </tr>\n",
       "    <tr>\n",
       "      <th>4</th>\n",
       "      <td>994889748559394597</td>\n",
       "      <td>Tuesday/December/16</td>\n",
       "      <td>yyy</td>\n",
       "    </tr>\n",
       "    <tr>\n",
       "      <th>5</th>\n",
       "      <td>267857845400294597</td>\n",
       "      <td>Tuesday/December/16</td>\n",
       "      <td>yyy</td>\n",
       "    </tr>\n",
       "    <tr>\n",
       "      <th>6</th>\n",
       "      <td>900486039855694560</td>\n",
       "      <td>Monday/December/16</td>\n",
       "      <td>yyy</td>\n",
       "    </tr>\n",
       "    <tr>\n",
       "      <th>7</th>\n",
       "      <td>876166652354594559</td>\n",
       "      <td>Monday/December/16</td>\n",
       "      <td>yyy</td>\n",
       "    </tr>\n",
       "    <tr>\n",
       "      <th>8</th>\n",
       "      <td>244167927104594559</td>\n",
       "      <td>Monday/December/16</td>\n",
       "      <td>yyy</td>\n",
       "    </tr>\n",
       "    <tr>\n",
       "      <th>9</th>\n",
       "      <td>478403164894494430</td>\n",
       "      <td>Thursday/December/16</td>\n",
       "      <td>yyy</td>\n",
       "    </tr>\n",
       "  </tbody>\n",
       "</table>\n",
       "</div>"
      ],
      "text/plain": [
       "         new-tweet-id            created_at4 username\n",
       "0  301767309855683251  Wednesday/February/16      yyy\n",
       "1  041287076781383229    Tuesday/February/16      yyy\n",
       "2  170242984208083188     Monday/February/16      yyy\n",
       "3  346316860619394606    Tuesday/December/16      yyy\n",
       "4  994889748559394597    Tuesday/December/16      yyy\n",
       "5  267857845400294597    Tuesday/December/16      yyy\n",
       "6  900486039855694560     Monday/December/16      yyy\n",
       "7  876166652354594559     Monday/December/16      yyy\n",
       "8  244167927104594559     Monday/December/16      yyy\n",
       "9  478403164894494430   Thursday/December/16      yyy"
      ]
     },
     "execution_count": 73,
     "metadata": {},
     "output_type": "execute_result"
    }
   ],
   "source": [
    "#Display new columns created and the masked usernames\n",
    "\n",
    "new = df[['new-tweet-id','created_at4','username']]\n",
    "shownew = new.head(10)\n",
    "shownew"
   ]
  },
  {
   "cell_type": "markdown",
   "id": "f6004640",
   "metadata": {},
   "source": [
    "<b> Question #3"
   ]
  },
  {
   "cell_type": "markdown",
   "id": "2f5be8be",
   "metadata": {},
   "source": [
    "Data for this question can be found in \"online-retail\" sheet from assignment- data.xlsx. Since it is a big data, load first 200 rows and keep it in the data frame called \"dataset\". This “dataset” is used for all tasks in this question"
   ]
  },
  {
   "cell_type": "code",
   "execution_count": 2,
   "id": "4b569086",
   "metadata": {},
   "outputs": [
    {
     "data": {
      "text/html": [
       "<div>\n",
       "<style scoped>\n",
       "    .dataframe tbody tr th:only-of-type {\n",
       "        vertical-align: middle;\n",
       "    }\n",
       "\n",
       "    .dataframe tbody tr th {\n",
       "        vertical-align: top;\n",
       "    }\n",
       "\n",
       "    .dataframe thead th {\n",
       "        text-align: right;\n",
       "    }\n",
       "</style>\n",
       "<table border=\"1\" class=\"dataframe\">\n",
       "  <thead>\n",
       "    <tr style=\"text-align: right;\">\n",
       "      <th></th>\n",
       "      <th>InvoiceNo</th>\n",
       "      <th>StockCode</th>\n",
       "      <th>Description</th>\n",
       "      <th>Quantity</th>\n",
       "      <th>InvoiceDate</th>\n",
       "      <th>UnitPrice</th>\n",
       "      <th>CustomerID</th>\n",
       "      <th>Country</th>\n",
       "    </tr>\n",
       "  </thead>\n",
       "  <tbody>\n",
       "    <tr>\n",
       "      <th>0</th>\n",
       "      <td>536365</td>\n",
       "      <td>85123A</td>\n",
       "      <td>WHITE HANGING HEART T-LIGHT HOLDER</td>\n",
       "      <td>6</td>\n",
       "      <td>2010-12-01 08:26:00</td>\n",
       "      <td>2.55</td>\n",
       "      <td>17850</td>\n",
       "      <td>United Kingdom</td>\n",
       "    </tr>\n",
       "    <tr>\n",
       "      <th>1</th>\n",
       "      <td>536365</td>\n",
       "      <td>71053</td>\n",
       "      <td>WHITE METAL LANTERN</td>\n",
       "      <td>6</td>\n",
       "      <td>2010-12-01 08:26:00</td>\n",
       "      <td>3.39</td>\n",
       "      <td>17850</td>\n",
       "      <td>United Kingdom</td>\n",
       "    </tr>\n",
       "    <tr>\n",
       "      <th>2</th>\n",
       "      <td>536365</td>\n",
       "      <td>84406B</td>\n",
       "      <td>CREAM CUPID HEARTS COAT HANGER</td>\n",
       "      <td>8</td>\n",
       "      <td>2010-12-01 08:26:00</td>\n",
       "      <td>2.75</td>\n",
       "      <td>17850</td>\n",
       "      <td>United Kingdom</td>\n",
       "    </tr>\n",
       "    <tr>\n",
       "      <th>3</th>\n",
       "      <td>536365</td>\n",
       "      <td>84029G</td>\n",
       "      <td>KNITTED UNION FLAG HOT WATER BOTTLE</td>\n",
       "      <td>6</td>\n",
       "      <td>2010-12-01 08:26:00</td>\n",
       "      <td>3.39</td>\n",
       "      <td>17850</td>\n",
       "      <td>United Kingdom</td>\n",
       "    </tr>\n",
       "    <tr>\n",
       "      <th>4</th>\n",
       "      <td>536365</td>\n",
       "      <td>84029E</td>\n",
       "      <td>RED WOOLLY HOTTIE WHITE HEART.</td>\n",
       "      <td>6</td>\n",
       "      <td>2010-12-01 08:26:00</td>\n",
       "      <td>3.39</td>\n",
       "      <td>17850</td>\n",
       "      <td>United Kingdom</td>\n",
       "    </tr>\n",
       "    <tr>\n",
       "      <th>...</th>\n",
       "      <td>...</td>\n",
       "      <td>...</td>\n",
       "      <td>...</td>\n",
       "      <td>...</td>\n",
       "      <td>...</td>\n",
       "      <td>...</td>\n",
       "      <td>...</td>\n",
       "      <td>...</td>\n",
       "    </tr>\n",
       "    <tr>\n",
       "      <th>195</th>\n",
       "      <td>536388</td>\n",
       "      <td>22469</td>\n",
       "      <td>HEART OF WICKER SMALL</td>\n",
       "      <td>12</td>\n",
       "      <td>2010-12-01 09:59:00</td>\n",
       "      <td>1.65</td>\n",
       "      <td>16250</td>\n",
       "      <td>United Kingdom</td>\n",
       "    </tr>\n",
       "    <tr>\n",
       "      <th>196</th>\n",
       "      <td>536388</td>\n",
       "      <td>22242</td>\n",
       "      <td>5 HOOK HANGER MAGIC TOADSTOOL</td>\n",
       "      <td>12</td>\n",
       "      <td>2010-12-01 09:59:00</td>\n",
       "      <td>1.65</td>\n",
       "      <td>16250</td>\n",
       "      <td>United Kingdom</td>\n",
       "    </tr>\n",
       "    <tr>\n",
       "      <th>197</th>\n",
       "      <td>536389</td>\n",
       "      <td>22941</td>\n",
       "      <td>CHRISTMAS LIGHTS 10 REINDEER</td>\n",
       "      <td>6</td>\n",
       "      <td>2010-12-01 10:03:00</td>\n",
       "      <td>8.50</td>\n",
       "      <td>12431</td>\n",
       "      <td>Australia</td>\n",
       "    </tr>\n",
       "    <tr>\n",
       "      <th>198</th>\n",
       "      <td>536389</td>\n",
       "      <td>21622</td>\n",
       "      <td>VINTAGE UNION JACK CUSHION COVER</td>\n",
       "      <td>8</td>\n",
       "      <td>2010-12-01 10:03:00</td>\n",
       "      <td>4.95</td>\n",
       "      <td>12431</td>\n",
       "      <td>Australia</td>\n",
       "    </tr>\n",
       "    <tr>\n",
       "      <th>199</th>\n",
       "      <td>536389</td>\n",
       "      <td>21791</td>\n",
       "      <td>VINTAGE HEADS AND TAILS CARD GAME</td>\n",
       "      <td>12</td>\n",
       "      <td>2010-12-01 10:03:00</td>\n",
       "      <td>1.25</td>\n",
       "      <td>12431</td>\n",
       "      <td>Australia</td>\n",
       "    </tr>\n",
       "  </tbody>\n",
       "</table>\n",
       "<p>200 rows × 8 columns</p>\n",
       "</div>"
      ],
      "text/plain": [
       "    InvoiceNo StockCode                          Description  Quantity  \\\n",
       "0      536365    85123A   WHITE HANGING HEART T-LIGHT HOLDER         6   \n",
       "1      536365     71053                  WHITE METAL LANTERN         6   \n",
       "2      536365    84406B       CREAM CUPID HEARTS COAT HANGER         8   \n",
       "3      536365    84029G  KNITTED UNION FLAG HOT WATER BOTTLE         6   \n",
       "4      536365    84029E       RED WOOLLY HOTTIE WHITE HEART.         6   \n",
       "..        ...       ...                                  ...       ...   \n",
       "195    536388     22469                HEART OF WICKER SMALL        12   \n",
       "196    536388     22242        5 HOOK HANGER MAGIC TOADSTOOL        12   \n",
       "197    536389     22941         CHRISTMAS LIGHTS 10 REINDEER         6   \n",
       "198    536389     21622     VINTAGE UNION JACK CUSHION COVER         8   \n",
       "199    536389     21791   VINTAGE HEADS AND TAILS CARD GAME         12   \n",
       "\n",
       "            InvoiceDate  UnitPrice  CustomerID         Country  \n",
       "0   2010-12-01 08:26:00       2.55       17850  United Kingdom  \n",
       "1   2010-12-01 08:26:00       3.39       17850  United Kingdom  \n",
       "2   2010-12-01 08:26:00       2.75       17850  United Kingdom  \n",
       "3   2010-12-01 08:26:00       3.39       17850  United Kingdom  \n",
       "4   2010-12-01 08:26:00       3.39       17850  United Kingdom  \n",
       "..                  ...        ...         ...             ...  \n",
       "195 2010-12-01 09:59:00       1.65       16250  United Kingdom  \n",
       "196 2010-12-01 09:59:00       1.65       16250  United Kingdom  \n",
       "197 2010-12-01 10:03:00       8.50       12431       Australia  \n",
       "198 2010-12-01 10:03:00       4.95       12431       Australia  \n",
       "199 2010-12-01 10:03:00       1.25       12431       Australia  \n",
       "\n",
       "[200 rows x 8 columns]"
      ]
     },
     "execution_count": 2,
     "metadata": {},
     "output_type": "execute_result"
    }
   ],
   "source": [
    "#Import excel file\n",
    "\n",
    "dataset=pd.read_excel('assignment-data.xlsx',sheet_name='online-retail',nrows=200)\n",
    "dataset"
   ]
  },
  {
   "cell_type": "markdown",
   "id": "ead9e835",
   "metadata": {},
   "source": [
    "<b>Task 1:</b> When you started working with data, you’ve realized that it needs cleaning to produce better results. Do essential data cleaning. "
   ]
  },
  {
   "cell_type": "code",
   "execution_count": 122,
   "id": "f851cbfd",
   "metadata": {},
   "outputs": [
    {
     "data": {
      "text/plain": [
       "InvoiceNo              object\n",
       "StockCode              object\n",
       "Description            object\n",
       "Quantity                int64\n",
       "InvoiceDate    datetime64[ns]\n",
       "UnitPrice             float64\n",
       "CustomerID              int64\n",
       "Country                object\n",
       "dtype: object"
      ]
     },
     "execution_count": 122,
     "metadata": {},
     "output_type": "execute_result"
    }
   ],
   "source": [
    "#Check datatypes of the columns\n",
    "dataset.dtypes"
   ]
  },
  {
   "cell_type": "code",
   "execution_count": 155,
   "id": "da65d9db",
   "metadata": {
    "scrolled": true
   },
   "outputs": [
    {
     "data": {
      "text/html": [
       "<div>\n",
       "<style scoped>\n",
       "    .dataframe tbody tr th:only-of-type {\n",
       "        vertical-align: middle;\n",
       "    }\n",
       "\n",
       "    .dataframe tbody tr th {\n",
       "        vertical-align: top;\n",
       "    }\n",
       "\n",
       "    .dataframe thead th {\n",
       "        text-align: right;\n",
       "    }\n",
       "</style>\n",
       "<table border=\"1\" class=\"dataframe\">\n",
       "  <thead>\n",
       "    <tr style=\"text-align: right;\">\n",
       "      <th></th>\n",
       "      <th>InvoiceNo</th>\n",
       "      <th>StockCode</th>\n",
       "      <th>Description</th>\n",
       "      <th>Quantity</th>\n",
       "      <th>InvoiceDate</th>\n",
       "      <th>UnitPrice</th>\n",
       "      <th>CustomerID</th>\n",
       "      <th>Country</th>\n",
       "    </tr>\n",
       "  </thead>\n",
       "  <tbody>\n",
       "  </tbody>\n",
       "</table>\n",
       "</div>"
      ],
      "text/plain": [
       "Empty DataFrame\n",
       "Columns: [InvoiceNo, StockCode, Description, Quantity, InvoiceDate, UnitPrice, CustomerID, Country]\n",
       "Index: []"
      ]
     },
     "execution_count": 155,
     "metadata": {},
     "output_type": "execute_result"
    }
   ],
   "source": [
    "#Check if there are negative values in the int and float data types\n",
    "#Quantity\n",
    "\n",
    "dataset[dataset['Quantity'] < 0]"
   ]
  },
  {
   "cell_type": "code",
   "execution_count": 70,
   "id": "2824814a",
   "metadata": {},
   "outputs": [
    {
     "data": {
      "text/html": [
       "<div>\n",
       "<style scoped>\n",
       "    .dataframe tbody tr th:only-of-type {\n",
       "        vertical-align: middle;\n",
       "    }\n",
       "\n",
       "    .dataframe tbody tr th {\n",
       "        vertical-align: top;\n",
       "    }\n",
       "\n",
       "    .dataframe thead th {\n",
       "        text-align: right;\n",
       "    }\n",
       "</style>\n",
       "<table border=\"1\" class=\"dataframe\">\n",
       "  <thead>\n",
       "    <tr style=\"text-align: right;\">\n",
       "      <th></th>\n",
       "      <th>InvoiceNo</th>\n",
       "      <th>StockCode</th>\n",
       "      <th>Description</th>\n",
       "      <th>Quantity</th>\n",
       "      <th>InvoiceDate</th>\n",
       "      <th>UnitPrice</th>\n",
       "      <th>CustomerID</th>\n",
       "      <th>Country</th>\n",
       "      <th>total_purchase</th>\n",
       "    </tr>\n",
       "  </thead>\n",
       "  <tbody>\n",
       "  </tbody>\n",
       "</table>\n",
       "</div>"
      ],
      "text/plain": [
       "Empty DataFrame\n",
       "Columns: [InvoiceNo, StockCode, Description, Quantity, InvoiceDate, UnitPrice, CustomerID, Country, total_purchase]\n",
       "Index: []"
      ]
     },
     "execution_count": 70,
     "metadata": {},
     "output_type": "execute_result"
    }
   ],
   "source": [
    "#Check if there are negative values in the int and float data types\n",
    "#Unit Price\n",
    "\n",
    "dataset[dataset['UnitPrice'] < 0]"
   ]
  },
  {
   "cell_type": "code",
   "execution_count": 71,
   "id": "25fdb247",
   "metadata": {},
   "outputs": [
    {
     "data": {
      "text/html": [
       "<div>\n",
       "<style scoped>\n",
       "    .dataframe tbody tr th:only-of-type {\n",
       "        vertical-align: middle;\n",
       "    }\n",
       "\n",
       "    .dataframe tbody tr th {\n",
       "        vertical-align: top;\n",
       "    }\n",
       "\n",
       "    .dataframe thead th {\n",
       "        text-align: right;\n",
       "    }\n",
       "</style>\n",
       "<table border=\"1\" class=\"dataframe\">\n",
       "  <thead>\n",
       "    <tr style=\"text-align: right;\">\n",
       "      <th></th>\n",
       "      <th>InvoiceNo</th>\n",
       "      <th>StockCode</th>\n",
       "      <th>Description</th>\n",
       "      <th>Quantity</th>\n",
       "      <th>InvoiceDate</th>\n",
       "      <th>UnitPrice</th>\n",
       "      <th>CustomerID</th>\n",
       "      <th>Country</th>\n",
       "      <th>total_purchase</th>\n",
       "    </tr>\n",
       "  </thead>\n",
       "  <tbody>\n",
       "  </tbody>\n",
       "</table>\n",
       "</div>"
      ],
      "text/plain": [
       "Empty DataFrame\n",
       "Columns: [InvoiceNo, StockCode, Description, Quantity, InvoiceDate, UnitPrice, CustomerID, Country, total_purchase]\n",
       "Index: []"
      ]
     },
     "execution_count": 71,
     "metadata": {},
     "output_type": "execute_result"
    }
   ],
   "source": [
    "#Check if there are negative values in the int and float data types\n",
    "#CustomerID\n",
    "\n",
    "dataset[dataset['CustomerID'] < 0]"
   ]
  },
  {
   "cell_type": "markdown",
   "id": "2c1ae212",
   "metadata": {},
   "source": [
    "<h3> Upon checking, we found that there are ZERO negative values in the INT and FLOAT data types"
   ]
  },
  {
   "cell_type": "code",
   "execution_count": 72,
   "id": "2b64bcdd",
   "metadata": {},
   "outputs": [],
   "source": [
    "#To be sure, let's still get the absolute values of the int and float data types\n",
    "\n",
    "dataset['Quantity'] = abs(dataset['Quantity'])\n",
    "dataset['UnitPrice'] = abs(dataset['UnitPrice'])\n",
    "dataset['CustomerID'] = abs(dataset['CustomerID'])"
   ]
  },
  {
   "cell_type": "markdown",
   "id": "08fd5e4b",
   "metadata": {},
   "source": [
    "<b>Task 2:</b> Amazon wants to reward the customer who has done the most number of transactions, by providing a gift hamper worth 1000 pesos.\n",
    "Find out the customer who has done the most number of transactions [Note: One invoice number corresponds to one transaction]. The output should the one as below:"
   ]
  },
  {
   "cell_type": "code",
   "execution_count": 146,
   "id": "5c0ae351",
   "metadata": {
    "scrolled": true
   },
   "outputs": [
    {
     "name": "stdout",
     "output_type": "stream",
     "text": [
      "Hurray! The most number of transactions is done by Customer ID: 17850 . He has made 45 transactions. He will be rewarded with our gift hamper worth 1000 pesos\n"
     ]
    }
   ],
   "source": [
    "#Use \"groupby\" to group data by columns\n",
    "#Since one invoice number corresponds to one transaction,\n",
    "#we will get the count of InvoiceNo per CustomerID\n",
    "\n",
    "dataset['customer'] = dataset.groupby(dataset.CustomerID)[['InvoiceNo']].count()\n",
    "\n",
    "print(\"Hurray! The most number of transactions is done by Customer ID:\", customer.idxmax().get(key='InvoiceNo'),\n",
    "     \". He has made\", customer.max().get('InvoiceNo'), \n",
    "      \"transactions. He will be rewarded with our gift hamper worth 1000 pesos\")"
   ]
  },
  {
   "cell_type": "markdown",
   "id": "b56c8629",
   "metadata": {},
   "source": [
    "<b>Task 3:</b> Amazon wants to find the best customer and likes to reward 50% discount on his next purchase. Find the Customer with the highest amount of total purchase amount."
   ]
  },
  {
   "cell_type": "code",
   "execution_count": 74,
   "id": "e269fdc1",
   "metadata": {},
   "outputs": [],
   "source": [
    "#Create a new column for Total Purchase Amount\n",
    "#Total Purchase Amount = Unit Price * Quantity\n",
    "\n",
    "dataset['total_purchase'] = np.array(dataset['UnitPrice'].multiply(dataset['Quantity'],axis=\"index\"))"
   ]
  },
  {
   "cell_type": "code",
   "execution_count": 154,
   "id": "8d178426",
   "metadata": {},
   "outputs": [
    {
     "name": "stdout",
     "output_type": "stream",
     "text": [
      "Customer ID: 16029 is the best customer since he has spent a lot in our business. His total purchase amount is 3702.12 pesos. 50% discount will be given on his next purchase\n"
     ]
    }
   ],
   "source": [
    "#Use \"groupby\" to group data by columns\n",
    "#We will print the CustomerID with the\n",
    "#highest Total Purchase Amount\n",
    "\n",
    "cs_amt = dataset.groupby(dataset.CustomerID)[['total_purchase']].sum()\n",
    "\n",
    "print(\"Customer ID:\", cs_amt.idxmax().get(key='total_purchase'), \"is the best customer since he has spent a lot in our business.\"\n",
    "     ,\"His total purchase amount is\", cs_amt.max().get('total_purchase'), \"pesos. 50% discount will be given on his next purchase\")"
   ]
  },
  {
   "cell_type": "markdown",
   "id": "2d2c7011",
   "metadata": {},
   "source": [
    "<b>Task 4:</b> Amazon wants to find out the most and the least bought items. It likes to increase the sale of least bought item by bundling it with the most bought item and ready to give special 10% discount for this bundle. "
   ]
  },
  {
   "cell_type": "code",
   "execution_count": 79,
   "id": "c404410e",
   "metadata": {},
   "outputs": [],
   "source": [
    "#Use \"groupby\" to group data by columns\n",
    "#We will determine the most and least bought items\n",
    "#by getting the sum of their Quantity\n",
    "\n",
    "items = dataset.groupby(dataset.StockCode)[['Quantity']].sum()"
   ]
  },
  {
   "cell_type": "code",
   "execution_count": 78,
   "id": "ef584ab7",
   "metadata": {},
   "outputs": [
    {
     "name": "stdout",
     "output_type": "stream",
     "text": [
      "Most bought item is StockCode 21731 with 458 in purhcased quantity.\n",
      "Least bought item is StockCode 21166 with 1 in purhcased quantity overall. These two items can be bundled and provide 10% discount on this bundle to increase the sales of StockCode 21166\n"
     ]
    }
   ],
   "source": [
    "print('Most bought item is StockCode', items.idxmax().get(key='Quantity'), 'with', \n",
    "      items.max().get('Quantity'), 'in purhcased quantity.')\n",
    "\n",
    "print('Least bought item is StockCode', items.idxmin().get(key='Quantity'), 'with', \n",
    "      items.min().get('Quantity'), 'in purhcased quantity overall.',\n",
    "     'These two items can be bundled and provide 10% discount on this bundle to increase the sales of StockCode',\n",
    "     items.idxmin().get(key='Quantity'))"
   ]
  },
  {
   "cell_type": "markdown",
   "id": "869759f9",
   "metadata": {},
   "source": [
    "<b>Task 5:</b> Company likes to find out overall average purchase-amount among all transactions [ one transaction indicates one invoice number]"
   ]
  },
  {
   "cell_type": "code",
   "execution_count": 109,
   "id": "9e39a65f",
   "metadata": {},
   "outputs": [
    {
     "name": "stdout",
     "output_type": "stream",
     "text": [
      "Average purchase amount among all transaction = 44.07.\n"
     ]
    }
   ],
   "source": [
    "#In Task 3, we computed the Total Purchase Amount by\n",
    "#multiplying Unit Price and Quantity\n",
    "#and stored it on dataset['total_purchase']\n",
    "\n",
    "#Get the average purchase amount\n",
    "avg_sale = np.mean(total_purchase)\n",
    "\n",
    "#Round off the average sale\n",
    "rounded_avg = round(avg_sale,2)\n",
    "\n",
    "print(\"Average purchase amount among all transaction = {}.\".format(rounded_avg))"
   ]
  },
  {
   "cell_type": "markdown",
   "id": "a67e9c9b",
   "metadata": {},
   "source": [
    "<b>Task 6:</b> Company also likes to find out the total purchase amount and the number of transactions made by each customer in their lifetime. Create new data frame called \"new-dataset\", containing the columns ['CustomerID', 'TotalPurchaseAmount', 'NumberofTransactions']. Display the last 10 rows. "
   ]
  },
  {
   "cell_type": "code",
   "execution_count": 183,
   "id": "a26c8477",
   "metadata": {},
   "outputs": [
    {
     "data": {
      "text/html": [
       "<div>\n",
       "<style scoped>\n",
       "    .dataframe tbody tr th:only-of-type {\n",
       "        vertical-align: middle;\n",
       "    }\n",
       "\n",
       "    .dataframe tbody tr th {\n",
       "        vertical-align: top;\n",
       "    }\n",
       "\n",
       "    .dataframe thead th {\n",
       "        text-align: right;\n",
       "    }\n",
       "</style>\n",
       "<table border=\"1\" class=\"dataframe\">\n",
       "  <thead>\n",
       "    <tr style=\"text-align: right;\">\n",
       "      <th></th>\n",
       "      <th>TotalPurchaseAmount</th>\n",
       "      <th>NumberofTransactions</th>\n",
       "    </tr>\n",
       "    <tr>\n",
       "      <th>CustomerID</th>\n",
       "      <th></th>\n",
       "      <th></th>\n",
       "    </tr>\n",
       "  </thead>\n",
       "  <tbody>\n",
       "    <tr>\n",
       "      <th>15100</th>\n",
       "      <td>350.40</td>\n",
       "      <td>1</td>\n",
       "    </tr>\n",
       "    <tr>\n",
       "      <th>15291</th>\n",
       "      <td>328.80</td>\n",
       "      <td>2</td>\n",
       "    </tr>\n",
       "    <tr>\n",
       "      <th>15311</th>\n",
       "      <td>454.63</td>\n",
       "      <td>36</td>\n",
       "    </tr>\n",
       "    <tr>\n",
       "      <th>16029</th>\n",
       "      <td>3702.12</td>\n",
       "      <td>8</td>\n",
       "    </tr>\n",
       "    <tr>\n",
       "      <th>16098</th>\n",
       "      <td>430.60</td>\n",
       "      <td>12</td>\n",
       "    </tr>\n",
       "    <tr>\n",
       "      <th>16250</th>\n",
       "      <td>226.14</td>\n",
       "      <td>14</td>\n",
       "    </tr>\n",
       "    <tr>\n",
       "      <th>17420</th>\n",
       "      <td>130.85</td>\n",
       "      <td>7</td>\n",
       "    </tr>\n",
       "    <tr>\n",
       "      <th>17809</th>\n",
       "      <td>34.80</td>\n",
       "      <td>1</td>\n",
       "    </tr>\n",
       "    <tr>\n",
       "      <th>17850</th>\n",
       "      <td>725.44</td>\n",
       "      <td>45</td>\n",
       "    </tr>\n",
       "    <tr>\n",
       "      <th>18074</th>\n",
       "      <td>489.60</td>\n",
       "      <td>13</td>\n",
       "    </tr>\n",
       "  </tbody>\n",
       "</table>\n",
       "</div>"
      ],
      "text/plain": [
       "            TotalPurchaseAmount  NumberofTransactions\n",
       "CustomerID                                           \n",
       "15100                    350.40                     1\n",
       "15291                    328.80                     2\n",
       "15311                    454.63                    36\n",
       "16029                   3702.12                     8\n",
       "16098                    430.60                    12\n",
       "16250                    226.14                    14\n",
       "17420                    130.85                     7\n",
       "17809                     34.80                     1\n",
       "17850                    725.44                    45\n",
       "18074                    489.60                    13"
      ]
     },
     "execution_count": 183,
     "metadata": {},
     "output_type": "execute_result"
    }
   ],
   "source": [
    "#Create new-dataset using Groupby and Aggregate functions\n",
    "\n",
    "new_dataset = dataset.groupby('CustomerID').agg({'total_purchase':['sum'], 'InvoiceNo': ['count']})\n",
    "new_dataset.columns = ['TotalPurchaseAmount','NumberofTransactions']\n",
    "\n",
    "#Use the \"tail\" function to display the last 10 rows\n",
    "new_dataset.tail(10)"
   ]
  },
  {
   "cell_type": "markdown",
   "id": "2ef14b28",
   "metadata": {},
   "source": [
    "<b>Task 7:</b> Company also likes to know average purchase amount made by every customer to get an idea of how much they’ve spent with their business in average. Append a column \"AveragePurchase\" in the new-dataset. Get the average total purchase per CustomerID. Display first 5 results."
   ]
  },
  {
   "cell_type": "code",
   "execution_count": 203,
   "id": "220de298",
   "metadata": {},
   "outputs": [
    {
     "data": {
      "text/html": [
       "<div>\n",
       "<style scoped>\n",
       "    .dataframe tbody tr th:only-of-type {\n",
       "        vertical-align: middle;\n",
       "    }\n",
       "\n",
       "    .dataframe tbody tr th {\n",
       "        vertical-align: top;\n",
       "    }\n",
       "\n",
       "    .dataframe thead th {\n",
       "        text-align: right;\n",
       "    }\n",
       "</style>\n",
       "<table border=\"1\" class=\"dataframe\">\n",
       "  <thead>\n",
       "    <tr style=\"text-align: right;\">\n",
       "      <th></th>\n",
       "      <th>TotalPurchaseAmount</th>\n",
       "      <th>NumberofTransactions</th>\n",
       "      <th>AveragePurchase</th>\n",
       "    </tr>\n",
       "    <tr>\n",
       "      <th>CustomerID</th>\n",
       "      <th></th>\n",
       "      <th></th>\n",
       "      <th></th>\n",
       "    </tr>\n",
       "  </thead>\n",
       "  <tbody>\n",
       "    <tr>\n",
       "      <th>12431</th>\n",
       "      <td>105.60</td>\n",
       "      <td>3</td>\n",
       "      <td>35.200000</td>\n",
       "    </tr>\n",
       "    <tr>\n",
       "      <th>12583</th>\n",
       "      <td>855.86</td>\n",
       "      <td>20</td>\n",
       "      <td>42.793000</td>\n",
       "    </tr>\n",
       "    <tr>\n",
       "      <th>13047</th>\n",
       "      <td>366.63</td>\n",
       "      <td>17</td>\n",
       "      <td>21.566471</td>\n",
       "    </tr>\n",
       "    <tr>\n",
       "      <th>13748</th>\n",
       "      <td>204.00</td>\n",
       "      <td>1</td>\n",
       "      <td>204.000000</td>\n",
       "    </tr>\n",
       "    <tr>\n",
       "      <th>14527</th>\n",
       "      <td>27.50</td>\n",
       "      <td>1</td>\n",
       "      <td>27.500000</td>\n",
       "    </tr>\n",
       "  </tbody>\n",
       "</table>\n",
       "</div>"
      ],
      "text/plain": [
       "            TotalPurchaseAmount  NumberofTransactions  AveragePurchase\n",
       "CustomerID                                                            \n",
       "12431                    105.60                     3        35.200000\n",
       "12583                    855.86                    20        42.793000\n",
       "13047                    366.63                    17        21.566471\n",
       "13748                    204.00                     1       204.000000\n",
       "14527                     27.50                     1        27.500000"
      ]
     },
     "execution_count": 203,
     "metadata": {},
     "output_type": "execute_result"
    }
   ],
   "source": [
    "#Compute the \"AveragePurchase\" by dividing the TotalPurchaseAmount\n",
    "#by NumberofTransactions\n",
    "mean_amt = new_dataset['TotalPurchaseAmount']/new_dataset['NumberofTransactions']\n",
    "\n",
    "#Add \"AveragePurchase\" column to the new dataset\n",
    "new_dataset['AveragePurchase'] = mean_amt\n",
    "\n",
    "#Display the first 5 results\n",
    "new_dataset.head(5)"
   ]
  },
  {
   "cell_type": "code",
   "execution_count": null,
   "id": "8fe77f95",
   "metadata": {},
   "outputs": [],
   "source": []
  },
  {
   "cell_type": "code",
   "execution_count": null,
   "id": "84fe8906",
   "metadata": {},
   "outputs": [],
   "source": []
  },
  {
   "cell_type": "code",
   "execution_count": null,
   "id": "8f1dff2d",
   "metadata": {},
   "outputs": [],
   "source": []
  }
 ],
 "metadata": {
  "kernelspec": {
   "display_name": "Python 3 (ipykernel)",
   "language": "python",
   "name": "python3"
  },
  "language_info": {
   "codemirror_mode": {
    "name": "ipython",
    "version": 3
   },
   "file_extension": ".py",
   "mimetype": "text/x-python",
   "name": "python",
   "nbconvert_exporter": "python",
   "pygments_lexer": "ipython3",
   "version": "3.9.7"
  }
 },
 "nbformat": 4,
 "nbformat_minor": 5
}
