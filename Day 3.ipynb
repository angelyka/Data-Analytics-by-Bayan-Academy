{
 "cells": [
  {
   "cell_type": "markdown",
   "id": "48b0b439",
   "metadata": {},
   "source": [
    "# Lesson 2: Comparision Operators"
   ]
  },
  {
   "cell_type": "code",
   "execution_count": 1,
   "id": "90078a24",
   "metadata": {},
   "outputs": [
    {
     "data": {
      "text/plain": [
       "False"
      ]
     },
     "execution_count": 1,
     "metadata": {},
     "output_type": "execute_result"
    }
   ],
   "source": [
    "1>2"
   ]
  },
  {
   "cell_type": "code",
   "execution_count": 3,
   "id": "e39815c1",
   "metadata": {},
   "outputs": [],
   "source": [
    "# = assigning values\n",
    "# == comparing values"
   ]
  },
  {
   "cell_type": "code",
   "execution_count": 4,
   "id": "85decf57",
   "metadata": {},
   "outputs": [
    {
     "data": {
      "text/plain": [
       "True"
      ]
     },
     "execution_count": 4,
     "metadata": {},
     "output_type": "execute_result"
    }
   ],
   "source": [
    "1==1"
   ]
  },
  {
   "cell_type": "code",
   "execution_count": 6,
   "id": "a930799b",
   "metadata": {},
   "outputs": [
    {
     "data": {
      "text/plain": [
       "True"
      ]
     },
     "execution_count": 6,
     "metadata": {},
     "output_type": "execute_result"
    }
   ],
   "source": [
    "1!=2"
   ]
  },
  {
   "cell_type": "code",
   "execution_count": 7,
   "id": "6955949c",
   "metadata": {},
   "outputs": [
    {
     "data": {
      "text/plain": [
       "True"
      ]
     },
     "execution_count": 7,
     "metadata": {},
     "output_type": "execute_result"
    }
   ],
   "source": [
    "'string'=='string'"
   ]
  },
  {
   "cell_type": "code",
   "execution_count": 8,
   "id": "2cd6817f",
   "metadata": {},
   "outputs": [
    {
     "data": {
      "text/plain": [
       "False"
      ]
     },
     "execution_count": 8,
     "metadata": {},
     "output_type": "execute_result"
    }
   ],
   "source": [
    "'bell'=='boy'"
   ]
  },
  {
   "cell_type": "code",
   "execution_count": 9,
   "id": "0631dd31",
   "metadata": {},
   "outputs": [
    {
     "data": {
      "text/plain": [
       "False"
      ]
     },
     "execution_count": 9,
     "metadata": {},
     "output_type": "execute_result"
    }
   ],
   "source": [
    "(1==2) and (2==2)"
   ]
  },
  {
   "cell_type": "code",
   "execution_count": 10,
   "id": "63afebae",
   "metadata": {},
   "outputs": [
    {
     "data": {
      "text/plain": [
       "False"
      ]
     },
     "execution_count": 10,
     "metadata": {},
     "output_type": "execute_result"
    }
   ],
   "source": [
    "(1==2) and not (2==2)"
   ]
  },
  {
   "cell_type": "code",
   "execution_count": 11,
   "id": "277c04ec",
   "metadata": {},
   "outputs": [
    {
     "data": {
      "text/plain": [
       "True"
      ]
     },
     "execution_count": 11,
     "metadata": {},
     "output_type": "execute_result"
    }
   ],
   "source": [
    "(1==1) and not (1==2)"
   ]
  },
  {
   "cell_type": "markdown",
   "id": "8a53aacd",
   "metadata": {},
   "source": [
    "# Control Flow of Python"
   ]
  },
  {
   "cell_type": "code",
   "execution_count": 12,
   "id": "3359f71b",
   "metadata": {},
   "outputs": [
    {
     "name": "stdout",
     "output_type": "stream",
     "text": [
      "yes\n"
     ]
    }
   ],
   "source": [
    "if True:\n",
    "    print('yes')"
   ]
  },
  {
   "cell_type": "code",
   "execution_count": 14,
   "id": "b330262b",
   "metadata": {},
   "outputs": [],
   "source": [
    "if False:\n",
    "    print('no')"
   ]
  },
  {
   "cell_type": "code",
   "execution_count": 17,
   "id": "c34ff0ff",
   "metadata": {},
   "outputs": [
    {
     "name": "stdout",
     "output_type": "stream",
     "text": [
      "hi\n"
     ]
    }
   ],
   "source": [
    "if (1==5):\n",
    "    print('true')\n",
    "elif (2!=2):\n",
    "    print('yes')\n",
    "else:\n",
    "    print('hi')"
   ]
  },
  {
   "cell_type": "code",
   "execution_count": 18,
   "id": "8b996d8d",
   "metadata": {},
   "outputs": [
    {
     "name": "stdout",
     "output_type": "stream",
     "text": [
      "yes\n"
     ]
    }
   ],
   "source": [
    "if (1==3):\n",
    "    print('true')\n",
    "elif (2!=3):\n",
    "    print('yes')"
   ]
  },
  {
   "cell_type": "markdown",
   "id": "64a89344",
   "metadata": {},
   "source": [
    "<b><i>Looping Construct"
   ]
  },
  {
   "cell_type": "code",
   "execution_count": 21,
   "id": "2da90910",
   "metadata": {},
   "outputs": [],
   "source": [
    "seq=[10,20,30,40,50]"
   ]
  },
  {
   "cell_type": "code",
   "execution_count": 22,
   "id": "437fd1db",
   "metadata": {},
   "outputs": [
    {
     "name": "stdout",
     "output_type": "stream",
     "text": [
      "hi\n",
      "hi\n",
      "hi\n",
      "hi\n",
      "hi\n"
     ]
    }
   ],
   "source": [
    "for item in seq:\n",
    "    print('hi')"
   ]
  },
  {
   "cell_type": "code",
   "execution_count": 23,
   "id": "30cf7228",
   "metadata": {},
   "outputs": [
    {
     "name": "stdout",
     "output_type": "stream",
     "text": [
      "10\n",
      "20\n",
      "30\n",
      "40\n",
      "50\n"
     ]
    }
   ],
   "source": [
    "for num in seq:\n",
    "    print(num)"
   ]
  },
  {
   "cell_type": "code",
   "execution_count": 24,
   "id": "c1a8ba62",
   "metadata": {},
   "outputs": [
    {
     "name": "stdout",
     "output_type": "stream",
     "text": [
      "100\n",
      "400\n",
      "900\n",
      "1600\n",
      "2500\n"
     ]
    }
   ],
   "source": [
    "for num in seq:\n",
    "    print(num**2)"
   ]
  },
  {
   "cell_type": "code",
   "execution_count": 26,
   "id": "e04f8c43",
   "metadata": {},
   "outputs": [
    {
     "name": "stdout",
     "output_type": "stream",
     "text": [
      "20\n",
      "40\n",
      "60\n",
      "80\n",
      "100\n"
     ]
    }
   ],
   "source": [
    "for num in seq:\n",
    "    print(num*2)"
   ]
  },
  {
   "cell_type": "code",
   "execution_count": 27,
   "id": "da09d8bc",
   "metadata": {},
   "outputs": [
    {
     "name": "stdout",
     "output_type": "stream",
     "text": [
      "i is currently 1\n",
      "i is currently 2\n",
      "i is currently 3\n",
      "i is currently 4\n"
     ]
    }
   ],
   "source": [
    "i=1\n",
    "while i<5:\n",
    "    print('i is currently {}'.format(i))\n",
    "    i=i+1"
   ]
  },
  {
   "cell_type": "code",
   "execution_count": 28,
   "id": "e2792a53",
   "metadata": {},
   "outputs": [
    {
     "name": "stdout",
     "output_type": "stream",
     "text": [
      "i is currently 1\n",
      "i is currently 2\n",
      "i is currently 3\n",
      "i is currently 4\n",
      "i is currently 5\n"
     ]
    }
   ],
   "source": [
    "i=1\n",
    "while i<=5:\n",
    "    print('i is currently {}'.format(i))\n",
    "    i=i+1"
   ]
  },
  {
   "cell_type": "code",
   "execution_count": 33,
   "id": "c2fd16df",
   "metadata": {},
   "outputs": [
    {
     "name": "stdout",
     "output_type": "stream",
     "text": [
      "1\n",
      "2\n",
      "3\n",
      "4\n"
     ]
    }
   ],
   "source": [
    "i=1\n",
    "while i<5:\n",
    "    print(i)\n",
    "    i=i+1"
   ]
  },
  {
   "cell_type": "markdown",
   "id": "4b60c3fb",
   "metadata": {},
   "source": [
    "<b><i>LIST"
   ]
  },
  {
   "cell_type": "code",
   "execution_count": 34,
   "id": "021a8f10",
   "metadata": {},
   "outputs": [
    {
     "data": {
      "text/plain": [
       "range(0, 5)"
      ]
     },
     "execution_count": 34,
     "metadata": {},
     "output_type": "execute_result"
    }
   ],
   "source": [
    "range(5)"
   ]
  },
  {
   "cell_type": "code",
   "execution_count": 36,
   "id": "19b3eae9",
   "metadata": {},
   "outputs": [
    {
     "name": "stdout",
     "output_type": "stream",
     "text": [
      "i is currently 0\n",
      "i is currently 1\n",
      "i is currently 2\n",
      "i is currently 3\n",
      "i is currently 4\n"
     ]
    }
   ],
   "source": [
    "#i=1\n",
    "#while i<5:\n",
    "\n",
    "for item in range(5):\n",
    "    print('i is currently {}'.format(item))\n",
    "    \n",
    "#    i=i+1"
   ]
  },
  {
   "cell_type": "code",
   "execution_count": 37,
   "id": "a6c9848d",
   "metadata": {},
   "outputs": [
    {
     "data": {
      "text/plain": [
       "[1, 2, 3, 4, 5, 6, 7, 8, 9, 10]"
      ]
     },
     "execution_count": 37,
     "metadata": {},
     "output_type": "execute_result"
    }
   ],
   "source": [
    "list (range(1,11))"
   ]
  },
  {
   "cell_type": "code",
   "execution_count": 38,
   "id": "3f3e300f",
   "metadata": {},
   "outputs": [
    {
     "data": {
      "text/plain": [
       "[1, 4, 9, 16]"
      ]
     },
     "execution_count": 38,
     "metadata": {},
     "output_type": "execute_result"
    }
   ],
   "source": [
    "x=[1,2,3,4]\n",
    "out = []\n",
    "for num in x:\n",
    "    out.append(num**2)\n",
    "out"
   ]
  },
  {
   "cell_type": "code",
   "execution_count": 49,
   "id": "7b8a9d4b",
   "metadata": {},
   "outputs": [
    {
     "data": {
      "text/plain": [
       "[100, 400, 900, 1600]"
      ]
     },
     "execution_count": 49,
     "metadata": {},
     "output_type": "execute_result"
    }
   ],
   "source": [
    "x=[10,20,30,40]\n",
    "out = [a**2 for a in x]\n",
    "out"
   ]
  },
  {
   "cell_type": "code",
   "execution_count": 46,
   "id": "510e15fa",
   "metadata": {},
   "outputs": [
    {
     "data": {
      "text/plain": [
       "[100, 400, 900, 1600]"
      ]
     },
     "execution_count": 46,
     "metadata": {},
     "output_type": "execute_result"
    }
   ],
   "source": [
    "[x**2 for x in x]"
   ]
  },
  {
   "cell_type": "code",
   "execution_count": 47,
   "id": "00481764",
   "metadata": {},
   "outputs": [
    {
     "data": {
      "text/plain": [
       "[100, 400, 900, 1600]"
      ]
     },
     "execution_count": 47,
     "metadata": {},
     "output_type": "execute_result"
    }
   ],
   "source": [
    "x=[10,20,30,40]\n",
    "[num **2 for num in x]"
   ]
  },
  {
   "cell_type": "markdown",
   "id": "7e1a9354",
   "metadata": {},
   "source": [
    "<b><i>FUNCTIONS WITHOUT PARAMETER"
   ]
  },
  {
   "cell_type": "code",
   "execution_count": 50,
   "id": "d7340d33",
   "metadata": {},
   "outputs": [],
   "source": [
    "def my_func():\n",
    "    print('hello')"
   ]
  },
  {
   "cell_type": "code",
   "execution_count": 51,
   "id": "067b6d8f",
   "metadata": {},
   "outputs": [
    {
     "name": "stdout",
     "output_type": "stream",
     "text": [
      "hello\n"
     ]
    }
   ],
   "source": [
    "my_func()"
   ]
  },
  {
   "cell_type": "markdown",
   "id": "b3ac354b",
   "metadata": {},
   "source": [
    "<b><i>FUNCTIONS WITH PARAMETER"
   ]
  },
  {
   "cell_type": "code",
   "execution_count": 53,
   "id": "a36ee41b",
   "metadata": {},
   "outputs": [],
   "source": [
    "def demo(param1,param2='class'):\n",
    "    print(param1,param2)"
   ]
  },
  {
   "cell_type": "code",
   "execution_count": 54,
   "id": "6b139a22",
   "metadata": {},
   "outputs": [
    {
     "name": "stdout",
     "output_type": "stream",
     "text": [
      "this is my DA class class\n"
     ]
    }
   ],
   "source": [
    "demo('this is my DA class')"
   ]
  },
  {
   "cell_type": "markdown",
   "id": "b21f470f",
   "metadata": {},
   "source": [
    "<b><i>FUNCTIONS WITH DEFAULT PARAMETER"
   ]
  },
  {
   "cell_type": "code",
   "execution_count": 56,
   "id": "8a199d88",
   "metadata": {},
   "outputs": [],
   "source": [
    "def demo1 (param1=5):\n",
    "    \"\"\"\n",
    "    docstring goes here!\n",
    "    \n",
    "    \"\"\"\n",
    "    print(param1)\n",
    "    #return param1"
   ]
  },
  {
   "cell_type": "code",
   "execution_count": 57,
   "id": "56b05cf7",
   "metadata": {},
   "outputs": [
    {
     "name": "stdout",
     "output_type": "stream",
     "text": [
      "5\n"
     ]
    }
   ],
   "source": [
    "demo1()"
   ]
  },
  {
   "cell_type": "code",
   "execution_count": 58,
   "id": "37031d5c",
   "metadata": {},
   "outputs": [
    {
     "name": "stdout",
     "output_type": "stream",
     "text": [
      "6\n"
     ]
    }
   ],
   "source": [
    "x=demo1(6)\n",
    "x"
   ]
  },
  {
   "cell_type": "code",
   "execution_count": 59,
   "id": "a8d7550c",
   "metadata": {},
   "outputs": [],
   "source": [
    "def demo1 (argument):\n",
    "    \"\"\"\n",
    "    docstring goes here!\n",
    "    \n",
    "    \"\"\"\n",
    "    print(argument*5)\n"
   ]
  },
  {
   "cell_type": "code",
   "execution_count": 60,
   "id": "bd1be338",
   "metadata": {},
   "outputs": [
    {
     "name": "stdout",
     "output_type": "stream",
     "text": [
      "30\n"
     ]
    }
   ],
   "source": [
    "x=demo1(6)\n",
    "x"
   ]
  },
  {
   "cell_type": "markdown",
   "id": "c47341e9",
   "metadata": {},
   "source": [
    "<b><i>METHODS"
   ]
  },
  {
   "cell_type": "markdown",
   "id": "a01768d3",
   "metadata": {},
   "source": [
    "<b>String Upper and String Lower"
   ]
  },
  {
   "cell_type": "code",
   "execution_count": 61,
   "id": "1eb0bb91",
   "metadata": {},
   "outputs": [],
   "source": [
    "st=\"Hello, I am taking Intemediate DA class.\""
   ]
  },
  {
   "cell_type": "code",
   "execution_count": 62,
   "id": "523c8ec9",
   "metadata": {},
   "outputs": [
    {
     "data": {
      "text/plain": [
       "'hello, i am taking intemediate da class.'"
      ]
     },
     "execution_count": 62,
     "metadata": {},
     "output_type": "execute_result"
    }
   ],
   "source": [
    "st.lower()"
   ]
  },
  {
   "cell_type": "code",
   "execution_count": 63,
   "id": "a5c72557",
   "metadata": {},
   "outputs": [
    {
     "data": {
      "text/plain": [
       "'HELLO, I AM TAKING INTEMEDIATE DA CLASS.'"
      ]
     },
     "execution_count": 63,
     "metadata": {},
     "output_type": "execute_result"
    }
   ],
   "source": [
    "st.upper()"
   ]
  },
  {
   "cell_type": "markdown",
   "id": "eb07cbbf",
   "metadata": {},
   "source": [
    "<b>Split Method"
   ]
  },
  {
   "cell_type": "code",
   "execution_count": 64,
   "id": "8e5e4530",
   "metadata": {},
   "outputs": [],
   "source": [
    "tweet=\"Go Sports ! #cool\""
   ]
  },
  {
   "cell_type": "code",
   "execution_count": 65,
   "id": "0e828967",
   "metadata": {},
   "outputs": [
    {
     "data": {
      "text/plain": [
       "['Go', 'Sports', '!', '#cool']"
      ]
     },
     "execution_count": 65,
     "metadata": {},
     "output_type": "execute_result"
    }
   ],
   "source": [
    "tweet.split()"
   ]
  },
  {
   "cell_type": "code",
   "execution_count": 67,
   "id": "cb1ebfb2",
   "metadata": {},
   "outputs": [
    {
     "data": {
      "text/plain": [
       "['Go Sports ', ' #cool']"
      ]
     },
     "execution_count": 67,
     "metadata": {},
     "output_type": "execute_result"
    }
   ],
   "source": [
    "tweet.split('!')"
   ]
  },
  {
   "cell_type": "code",
   "execution_count": 68,
   "id": "48a04b93",
   "metadata": {},
   "outputs": [
    {
     "data": {
      "text/plain": [
       "(['Go Sports ! ', 'cool'], [0])"
      ]
     },
     "execution_count": 68,
     "metadata": {},
     "output_type": "execute_result"
    }
   ],
   "source": [
    "tweet.split('#'),[0]"
   ]
  },
  {
   "cell_type": "code",
   "execution_count": 69,
   "id": "54a275a7",
   "metadata": {},
   "outputs": [
    {
     "data": {
      "text/plain": [
       "(['Go Sports ! ', 'cool'], [0], [1])"
      ]
     },
     "execution_count": 69,
     "metadata": {},
     "output_type": "execute_result"
    }
   ],
   "source": [
    "tweet.split('#'),[0],[1]"
   ]
  },
  {
   "cell_type": "code",
   "execution_count": 70,
   "id": "2beff9cf",
   "metadata": {},
   "outputs": [
    {
     "data": {
      "text/plain": [
       "'Go Sports ! '"
      ]
     },
     "execution_count": 70,
     "metadata": {},
     "output_type": "execute_result"
    }
   ],
   "source": [
    "tweet=\"Go Sports ! #cool\"\n",
    "tweet.split('#')[0]"
   ]
  },
  {
   "cell_type": "code",
   "execution_count": 71,
   "id": "78024f9e",
   "metadata": {},
   "outputs": [
    {
     "data": {
      "text/plain": [
       "'cool'"
      ]
     },
     "execution_count": 71,
     "metadata": {},
     "output_type": "execute_result"
    }
   ],
   "source": [
    "tweet=\"Go Sports ! #cool\"\n",
    "tweet.split('#')[1]"
   ]
  },
  {
   "cell_type": "code",
   "execution_count": 73,
   "id": "dbb1a472",
   "metadata": {},
   "outputs": [
    {
     "data": {
      "text/plain": [
       "'c'"
      ]
     },
     "execution_count": 73,
     "metadata": {},
     "output_type": "execute_result"
    }
   ],
   "source": [
    "tweet.split('#')[1][0]"
   ]
  },
  {
   "cell_type": "code",
   "execution_count": null,
   "id": "47cf02b8",
   "metadata": {},
   "outputs": [],
   "source": []
  },
  {
   "cell_type": "code",
   "execution_count": null,
   "id": "a5122c37",
   "metadata": {},
   "outputs": [],
   "source": []
  },
  {
   "cell_type": "code",
   "execution_count": null,
   "id": "1086f2d2",
   "metadata": {},
   "outputs": [],
   "source": []
  },
  {
   "cell_type": "code",
   "execution_count": null,
   "id": "4447c81f",
   "metadata": {},
   "outputs": [],
   "source": []
  },
  {
   "cell_type": "code",
   "execution_count": null,
   "id": "ab2ada75",
   "metadata": {},
   "outputs": [],
   "source": []
  },
  {
   "cell_type": "code",
   "execution_count": null,
   "id": "bd97a95a",
   "metadata": {},
   "outputs": [],
   "source": []
  },
  {
   "cell_type": "code",
   "execution_count": null,
   "id": "fd0db3f6",
   "metadata": {},
   "outputs": [],
   "source": []
  },
  {
   "cell_type": "code",
   "execution_count": null,
   "id": "8198aa16",
   "metadata": {},
   "outputs": [],
   "source": []
  },
  {
   "cell_type": "code",
   "execution_count": null,
   "id": "2329edd4",
   "metadata": {},
   "outputs": [],
   "source": []
  },
  {
   "cell_type": "code",
   "execution_count": null,
   "id": "d74794e0",
   "metadata": {},
   "outputs": [],
   "source": []
  }
 ],
 "metadata": {
  "kernelspec": {
   "display_name": "Python 3 (ipykernel)",
   "language": "python",
   "name": "python3"
  },
  "language_info": {
   "codemirror_mode": {
    "name": "ipython",
    "version": 3
   },
   "file_extension": ".py",
   "mimetype": "text/x-python",
   "name": "python",
   "nbconvert_exporter": "python",
   "pygments_lexer": "ipython3",
   "version": "3.9.7"
  }
 },
 "nbformat": 4,
 "nbformat_minor": 5
}
