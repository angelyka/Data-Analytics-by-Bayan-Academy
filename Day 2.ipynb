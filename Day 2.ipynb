{
 "cells": [
  {
   "cell_type": "markdown",
   "id": "42492afc",
   "metadata": {},
   "source": [
    "# Lesson 1: Fundamental Data Types of Python"
   ]
  },
  {
   "cell_type": "markdown",
   "id": "d2165fef",
   "metadata": {},
   "source": [
    "<h1><b><i>Lesson 1"
   ]
  },
  {
   "cell_type": "markdown",
   "id": "31467259",
   "metadata": {},
   "source": [
    "#Demo"
   ]
  },
  {
   "cell_type": "code",
   "execution_count": 2,
   "id": "944230cf",
   "metadata": {},
   "outputs": [
    {
     "data": {
      "text/plain": [
       "'Welcome to Data Analytics'"
      ]
     },
     "execution_count": 2,
     "metadata": {},
     "output_type": "execute_result"
    }
   ],
   "source": [
    "\"Welcome to Data Analytics\""
   ]
  },
  {
   "cell_type": "code",
   "execution_count": 3,
   "id": "4d1aa70b",
   "metadata": {},
   "outputs": [
    {
     "data": {
      "text/plain": [
       "'11'"
      ]
     },
     "execution_count": 3,
     "metadata": {},
     "output_type": "execute_result"
    }
   ],
   "source": [
    "'1'+'1'"
   ]
  },
  {
   "cell_type": "code",
   "execution_count": 4,
   "id": "10fd9a0b",
   "metadata": {},
   "outputs": [
    {
     "data": {
      "text/plain": [
       "2"
      ]
     },
     "execution_count": 4,
     "metadata": {},
     "output_type": "execute_result"
    }
   ],
   "source": [
    "1+1\n"
   ]
  },
  {
   "cell_type": "code",
   "execution_count": 6,
   "id": "656f6260",
   "metadata": {},
   "outputs": [
    {
     "data": {
      "text/plain": [
       "9"
      ]
     },
     "execution_count": 6,
     "metadata": {},
     "output_type": "execute_result"
    }
   ],
   "source": [
    "#PEMDAS RULE\n",
    "\n",
    "3*3\n"
   ]
  },
  {
   "cell_type": "code",
   "execution_count": 7,
   "id": "47dcc1dc",
   "metadata": {},
   "outputs": [
    {
     "data": {
      "text/plain": [
       "0.3333333333333333"
      ]
     },
     "execution_count": 7,
     "metadata": {},
     "output_type": "execute_result"
    }
   ],
   "source": [
    "2/6"
   ]
  },
  {
   "cell_type": "code",
   "execution_count": 8,
   "id": "ef575f35",
   "metadata": {},
   "outputs": [
    {
     "data": {
      "text/plain": [
       "1"
      ]
     },
     "execution_count": 8,
     "metadata": {},
     "output_type": "execute_result"
    }
   ],
   "source": [
    "# % Modulus Division\n",
    "\n",
    "5%2"
   ]
  },
  {
   "cell_type": "code",
   "execution_count": 9,
   "id": "1ac19e2a",
   "metadata": {},
   "outputs": [
    {
     "data": {
      "text/plain": [
       "50"
      ]
     },
     "execution_count": 9,
     "metadata": {},
     "output_type": "execute_result"
    }
   ],
   "source": [
    "(2+3)*(5+5)"
   ]
  },
  {
   "cell_type": "code",
   "execution_count": 10,
   "id": "30424f2e",
   "metadata": {},
   "outputs": [],
   "source": [
    "name_of_var = 2\n"
   ]
  },
  {
   "cell_type": "code",
   "execution_count": 11,
   "id": "6588b3c0",
   "metadata": {},
   "outputs": [
    {
     "data": {
      "text/plain": [
       "3"
      ]
     },
     "execution_count": 11,
     "metadata": {},
     "output_type": "execute_result"
    }
   ],
   "source": [
    "x=1\n",
    "y=2\n",
    "x+y"
   ]
  },
  {
   "cell_type": "code",
   "execution_count": 12,
   "id": "46744c9a",
   "metadata": {},
   "outputs": [
    {
     "data": {
      "text/plain": [
       "4"
      ]
     },
     "execution_count": 12,
     "metadata": {},
     "output_type": "execute_result"
    }
   ],
   "source": [
    "name_of_var + y"
   ]
  },
  {
   "cell_type": "code",
   "execution_count": 17,
   "id": "cd0f16e1",
   "metadata": {},
   "outputs": [
    {
     "name": "stdout",
     "output_type": "stream",
     "text": [
      "square root: 1.4142135623730951\n",
      "factorial: 6\n",
      "this is new 1.0\n",
      "this is new 1.0\n"
     ]
    }
   ],
   "source": [
    "import math\n",
    "print (\"square root:\",math.sqrt(2))\n",
    "print (\"factorial:\",math.factorial(3))\n",
    "print('this is new',math.cos(0))\n",
    "print(\"this is new\",math.cos(0))"
   ]
  },
  {
   "cell_type": "markdown",
   "id": "3e47d970",
   "metadata": {},
   "source": [
    "<B> String can have a single or double quotes"
   ]
  },
  {
   "cell_type": "code",
   "execution_count": 23,
   "id": "cb27d817",
   "metadata": {},
   "outputs": [
    {
     "data": {
      "text/plain": [
       "'double?'"
      ]
     },
     "execution_count": 23,
     "metadata": {},
     "output_type": "execute_result"
    }
   ],
   "source": [
    "\"double?\""
   ]
  },
  {
   "cell_type": "code",
   "execution_count": 28,
   "id": "5f91d598",
   "metadata": {},
   "outputs": [
    {
     "data": {
      "text/plain": [
       "'single'"
      ]
     },
     "execution_count": 28,
     "metadata": {},
     "output_type": "execute_result"
    }
   ],
   "source": [
    "x='single'\n",
    "x"
   ]
  },
  {
   "cell_type": "code",
   "execution_count": 31,
   "id": "a773de1e",
   "metadata": {},
   "outputs": [
    {
     "name": "stdout",
     "output_type": "stream",
     "text": [
      "hello\n"
     ]
    }
   ],
   "source": [
    "x='hello'\n",
    "print(x)"
   ]
  },
  {
   "cell_type": "code",
   "execution_count": 32,
   "id": "feeb389c",
   "metadata": {},
   "outputs": [
    {
     "name": "stdout",
     "output_type": "stream",
     "text": [
      "Hello my name is Angelica Esmabe\n"
     ]
    }
   ],
   "source": [
    "name=\"Angelica Esmabe\"\n",
    "print(\"Hello my name is {}\".format(name))"
   ]
  },
  {
   "cell_type": "code",
   "execution_count": 34,
   "id": "f33d8860",
   "metadata": {},
   "outputs": [
    {
     "name": "stdout",
     "output_type": "stream",
     "text": [
      "Hello my name is Angelica Esmabe\n",
      "hello\n"
     ]
    }
   ],
   "source": [
    "print(\"Hello my name is\",name)\n",
    "print(x)"
   ]
  },
  {
   "cell_type": "code",
   "execution_count": 35,
   "id": "ab1c8826",
   "metadata": {},
   "outputs": [
    {
     "name": "stdout",
     "output_type": "stream",
     "text": [
      "Hi my name is Angelica Esmabe and my age is 26\n"
     ]
    }
   ],
   "source": [
    "age = 26\n",
    "print(\"Hi my name is {} and my age is {}\".format(name,age))"
   ]
  },
  {
   "cell_type": "code",
   "execution_count": 36,
   "id": "d1a26225",
   "metadata": {},
   "outputs": [
    {
     "name": "stdout",
     "output_type": "stream",
     "text": [
      "Hi my name is Angelica Esmabe and my age is 26\n"
     ]
    }
   ],
   "source": [
    "print(\"Hi my name is {0} and my age is {1}\".format(name,age))"
   ]
  },
  {
   "cell_type": "code",
   "execution_count": 37,
   "id": "445f73b0",
   "metadata": {},
   "outputs": [
    {
     "name": "stdout",
     "output_type": "stream",
     "text": [
      "Hi my name is Angel and my age is 8\n"
     ]
    }
   ],
   "source": [
    "x=['Angel','Lyka']\n",
    "y=[8,26]\n",
    "print(\"Hi my name is {} and my age is {}\".format(x[0],y[0]))"
   ]
  },
  {
   "cell_type": "code",
   "execution_count": null,
   "id": "808d18b0",
   "metadata": {},
   "outputs": [],
   "source": []
  }
 ],
 "metadata": {
  "kernelspec": {
   "display_name": "Python 3 (ipykernel)",
   "language": "python",
   "name": "python3"
  },
  "language_info": {
   "codemirror_mode": {
    "name": "ipython",
    "version": 3
   },
   "file_extension": ".py",
   "mimetype": "text/x-python",
   "name": "python",
   "nbconvert_exporter": "python",
   "pygments_lexer": "ipython3",
   "version": "3.9.7"
  }
 },
 "nbformat": 4,
 "nbformat_minor": 5
}
